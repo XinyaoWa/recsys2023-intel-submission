{
 "cells": [
  {
   "cell_type": "code",
   "execution_count": 1,
   "id": "a464291b",
   "metadata": {},
   "outputs": [
    {
     "name": "stderr",
     "output_type": "stream",
     "text": [
      "0it [00:00, ?it/s]\n"
     ]
    }
   ],
   "source": [
    "import pandas as pd\n",
    "import numpy as np\n",
    "import os\n",
    "from tqdm import tqdm\n",
    "import sklearn.metrics\n",
    "pd.set_option('display.max_rows', 500)\n",
    "pd.set_option('display.max_columns', 500)\n",
    "pd.set_option('display.width', 150)\n",
    "\n",
    "from pathlib import Path\n",
    "import sys\n",
    "pathlib = str(Path().resolve()) + \"/../../\"\n",
    "sys.path.append(pathlib)\n",
    "\n",
    "from utils import *\n",
    "data_path = \"../../data\"\n",
    "\n",
    "test_df = load_csv_to_pandasdf(os.path.join(data_path, \"sharechat_recsys2023_data\",  \"test\")).reset_index(drop=True)"
   ]
  },
  {
   "cell_type": "code",
   "execution_count": 2,
   "id": "8160b1c9",
   "metadata": {},
   "outputs": [],
   "source": [
    "def transform_count_encoded_feature(fg_list_1, df, encoder_list):\n",
    "    for feature_name in tqdm(fg_list_1, desc='get_count_encoded_feature'):\n",
    "        feature_name_CE = f\"{feature_name}_CE\"        \n",
    "        encoder = encoder_list[feature_name]\n",
    "        df[feature_name_CE] = encoder.transform(df[feature_name])        \n",
    "        df[feature_name_CE] = df[feature_name_CE].fillna(1)\n",
    "    return df\n",
    "\n",
    "def transform_indexing_feature(fg_list_1, df, encoder_list):\n",
    "    for feature_name in tqdm(fg_list_1, desc='get_indexing_feature'):\n",
    "        feature_name_index = f\"{feature_name}_idx\"            \n",
    "        encoder = encoder_list[feature_name]\n",
    "        df[feature_name_index] = encoder.transform(df)\n",
    "    return df\n",
    "\n",
    "def transform_newvalue(categorical_list, df, encoder_list):\n",
    "    for feature_name in tqdm(categorical_list, desc='get_newvalue_flag_feature'):        \n",
    "        encoder = encoder_list[feature_name]\n",
    "        df = encoder.transform(df)\n",
    "    return df"
   ]
  },
  {
   "cell_type": "code",
   "execution_count": 3,
   "id": "50afd70f",
   "metadata": {},
   "outputs": [],
   "source": [
    "fdflag_features = [f\"f_{i}\" for i in list(range(2, 23)) + [78, 75, 50]]\n",
    "count_features = [f\"f_{i}\" for i in [2, 4, 6, 13, 15, 18] + [78, 75, 50, 20, 24]]\n",
    "index_features = [f\"f_{i}\" for i in list(range(2, 23))]\n",
    "\n",
    "new_value_encoder_list = {}\n",
    "count_encoder_list = {}\n",
    "index_encoder_list = {}\n",
    "for feature_name in fdflag_features:\n",
    "    new_value_encoder_list[feature_name] = NewValueEncoder.load_model(os.path.join(data_path, \"1_LearningFE\",  f\"newvalue_{feature_name}.pkl\"))\n",
    "\n",
    "for feature_name in count_features:\n",
    "    count_encoder_list[feature_name] = CountEncoder.load_model(os.path.join(data_path, \"1_LearningFE\",  f\"count_{feature_name}.pkl\"))\n",
    "\n",
    "for feature_name in index_features:\n",
    "    index_encoder_list[feature_name] = Indexer.load_model(os.path.join(data_path, \"1_LearningFE\",  f\"index_{feature_name}.pkl\"))"
   ]
  },
  {
   "cell_type": "code",
   "execution_count": 4,
   "id": "da999362",
   "metadata": {},
   "outputs": [
    {
     "name": "stderr",
     "output_type": "stream",
     "text": [
      "get_newvalue_flag_feature: 100%|█████████████████████████████████████████████████████████████████████████████████████████████████████████████████████████████████████████████████████████████████████████████████████████████████████████████████████████████████████████████████████| 24/24 [00:00<00:00, 441.01it/s]\n",
      "get_count_encoded_feature: 100%|██████████████████████████████████████████████████████████████████████████████████████████████████████████████████████████████████████████████████████████████████████████████████████████████████████████████████████████████████████████████████████| 11/11 [00:00<00:00, 21.93it/s]\n",
      "get_indexing_feature: 100%|███████████████████████████████████████████████████████████████████████████████████████████████████████████████████████████████████████████████████████████████████████████████████████████████████████████████████████████████████████████████████████████| 21/21 [00:02<00:00,  9.44it/s]\n"
     ]
    }
   ],
   "source": [
    "import warnings\n",
    "warnings.filterwarnings(\"ignore\")\n",
    "\n",
    "target_label = 'is_installed'\n",
    "\n",
    "test_df['dow'] = test_df['f_1'] % 7\n",
    "test_df = transform_newvalue(fdflag_features, test_df, new_value_encoder_list)\n",
    "test_df = transform_count_encoded_feature(count_features, test_df, count_encoder_list)\n",
    "test_df = transform_indexing_feature(index_features, test_df, index_encoder_list)"
   ]
  },
  {
   "cell_type": "code",
   "execution_count": 5,
   "id": "8f892ca7",
   "metadata": {},
   "outputs": [],
   "source": [
    "test_df.to_parquet(os.path.join(data_path, \"1_LearningFE\",  \"test_processed.parquet\"))"
   ]
  }
 ],
 "metadata": {
  "kernelspec": {
   "display_name": "Python 3 (ipykernel)",
   "language": "python",
   "name": "python3"
  },
  "language_info": {
   "codemirror_mode": {
    "name": "ipython",
    "version": 3
   },
   "file_extension": ".py",
   "mimetype": "text/x-python",
   "name": "python",
   "nbconvert_exporter": "python",
   "pygments_lexer": "ipython3",
   "version": "3.8.10"
  }
 },
 "nbformat": 4,
 "nbformat_minor": 5
}
